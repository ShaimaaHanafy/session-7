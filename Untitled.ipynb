{
 "cells": [
  {
   "cell_type": "code",
   "execution_count": 12,
   "id": "7d44d06e-f667-42f1-aa57-814edbe866c8",
   "metadata": {},
   "outputs": [],
   "source": [
    "import numpy as np"
   ]
  },
  {
   "cell_type": "code",
   "execution_count": 12,
   "id": "25a00386-19ca-4a55-86d3-63fb05789540",
   "metadata": {},
   "outputs": [],
   "source": [
    "#1-ABC's"
   ]
  },
  {
   "cell_type": "code",
   "execution_count": 15,
   "id": "3dba18fc-321a-4e30-be7b-97b623d31714",
   "metadata": {},
   "outputs": [
    {
     "name": "stdout",
     "output_type": "stream",
     "text": [
      "<U19\n",
      "(1,)\n",
      "1\n"
     ]
    }
   ],
   "source": [
    "x=np.array([\"a,b,c,d,e,f,g,h,i,j\"])\n",
    "print(x.dtype)\n",
    "print(x.shape)\n",
    "print(x.size)"
   ]
  },
  {
   "cell_type": "code",
   "execution_count": null,
   "id": "51a667c3-f138-4589-b290-f3f2508fb6e5",
   "metadata": {},
   "outputs": [],
   "source": []
  },
  {
   "cell_type": "code",
   "execution_count": null,
   "id": "922ccda7-391e-4eda-80c6-8d8c676ff50a",
   "metadata": {},
   "outputs": [],
   "source": [
    "#2-Create an ndarray"
   ]
  },
  {
   "cell_type": "code",
   "execution_count": 27,
   "id": "8901c50e-541c-4540-8349-a53fdcfdb458",
   "metadata": {},
   "outputs": [
    {
     "name": "stdout",
     "output_type": "stream",
     "text": [
      "x=\n",
      "  [[ 2  4  6  8]\n",
      " [10 12 14 16]\n",
      " [18 20 22 24]\n",
      " [26 28 30 32]]\n",
      "y=\n",
      "  [ 2.          2.63265306  3.26530612  3.89795918  4.53061224  5.16326531\n",
      "  5.79591837  6.42857143  7.06122449  7.69387755  8.32653061  8.95918367\n",
      "  9.59183673 10.2244898  10.85714286 11.48979592 12.12244898 12.75510204\n",
      " 13.3877551  14.02040816 14.65306122 15.28571429 15.91836735 16.55102041\n",
      " 17.18367347 17.81632653 18.44897959 19.08163265 19.71428571 20.34693878\n",
      " 20.97959184 21.6122449  22.24489796 22.87755102 23.51020408 24.14285714\n",
      " 24.7755102  25.40816327 26.04081633 26.67346939 27.30612245 27.93877551\n",
      " 28.57142857 29.20408163 29.83673469 30.46938776 31.10204082 31.73469388\n",
      " 32.36734694 33.        ]\n"
     ]
    }
   ],
   "source": [
    "#incase of matrix\n",
    "x= np.arange(2,33,2).reshape(4,4)\n",
    "\n",
    "print(\"x=\\n \" ,x)\n",
    "\n",
    "#incase of one line\n",
    "y=np.linspace(2,33)\n",
    "print(\"y=\\n \" ,y)"
   ]
  },
  {
   "cell_type": "code",
   "execution_count": null,
   "id": "deaeb65a-328e-4190-b2e5-98ef523b1aaa",
   "metadata": {},
   "outputs": [],
   "source": []
  },
  {
   "cell_type": "code",
   "execution_count": null,
   "id": "8a10de16-2262-481b-a0f0-59d69d9aae52",
   "metadata": {},
   "outputs": [],
   "source": [
    "# 3-Manipulating ndarrays"
   ]
  },
  {
   "cell_type": "code",
   "execution_count": 40,
   "id": "23b797d4-4921-4983-a1cc-8da1be1ea939",
   "metadata": {},
   "outputs": [
    {
     "name": "stdout",
     "output_type": "stream",
     "text": [
      "x=\n",
      "  [[ 1  2  3  4  5]\n",
      " [ 6  7  8  9 10]\n",
      " [11 12 13 14 15]\n",
      " [16 17 18 19 20]\n",
      " [21 22 23 24 25]]\n",
      "[ 1  3  5  7  9 11 13 15 17 19 21 23 25]\n"
     ]
    }
   ],
   "source": [
    "x= np.arange(1,26).reshape(5,5)\n",
    "print(\"x=\\n \" ,x)\n",
    "#for y in x:\n",
    "  #  if y.any(y%2!=0):\n",
    "  #     print(y)\n",
    "odd_number=x[x%2!=0]\n",
    "print(odd_number)"
   ]
  },
  {
   "cell_type": "code",
   "execution_count": null,
   "id": "41b30ec0-e95e-45ee-aa09-1fba19422beb",
   "metadata": {},
   "outputs": [],
   "source": []
  }
 ],
 "metadata": {
  "kernelspec": {
   "display_name": "Python 3 (ipykernel)",
   "language": "python",
   "name": "python3"
  },
  "language_info": {
   "codemirror_mode": {
    "name": "ipython",
    "version": 3
   },
   "file_extension": ".py",
   "mimetype": "text/x-python",
   "name": "python",
   "nbconvert_exporter": "python",
   "pygments_lexer": "ipython3",
   "version": "3.13.2"
  }
 },
 "nbformat": 4,
 "nbformat_minor": 5
}
